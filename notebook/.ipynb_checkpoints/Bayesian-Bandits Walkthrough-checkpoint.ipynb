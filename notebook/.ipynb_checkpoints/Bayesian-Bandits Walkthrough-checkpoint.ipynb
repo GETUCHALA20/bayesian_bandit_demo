{
 "cells": [
  {
   "cell_type": "markdown",
   "metadata": {},
   "source": [
    "<h3>Estimating probabilities with Beta functions, and applied Bayesian Bandits</h3>\n",
    "\n",
    "We will use bayes' theorem to estimate probabilities, and probability distribution functions. We model the PDF of the \"click-through-rate\" of a particiular creative (e.g. one variation of a web-page) using Beta distriubtions.\n",
    "\n",
    "We next set up a Bayesian Bandit problem, to decide between 3 creatives in a live environment.\n",
    "\n",
    "Finally we build everything into a Docker container, and test it from this notebook.\n",
    "\n"
   ]
  },
  {
   "cell_type": "code",
   "execution_count": null,
   "metadata": {},
   "outputs": [],
   "source": [
    "%matplotlib inline\n",
    "import numpy as np\n",
    "import matplotlib.pyplot as plt\n",
    "\n",
    "# import the beta function and the binomial function\n",
    "from scipy.stats import beta, binom\n"
   ]
  },
  {
   "cell_type": "code",
   "execution_count": null,
   "metadata": {},
   "outputs": [],
   "source": [
    "x = np.linspace(0,1,1000,endpoint=True)\n",
    "\n",
    "# no information about the creative yet, therefore we should have a uniform prior between 0, 1.\n",
    "\n",
    "num_success = 0\n",
    "num_trials = 0 \n",
    "\n",
    "P_A = beta(1 + num_success, 1 + num_trials - num_success)\n",
    "\n",
    "plt.plot(x, P_A.pdf(x), '--', linewidth=3, label='P from no information')\n",
    "plt.xlabel('P(click through rate)')\n",
    "plt.ylabel('PDF')\n",
    "plt.ylim(0,1.2)\n",
    "plt.legend()"
   ]
  },
  {
   "cell_type": "code",
   "execution_count": null,
   "metadata": {},
   "outputs": [],
   "source": [
    "# let's add in some new information\n",
    "# your friend John, has already tested the creative. This is what he finds.\n",
    "num_success_john = 5\n",
    "num_trials_john = 10\n",
    "\n",
    "prior_from_john = $$$$$$$\n",
    "plt.plot(x, prior_from_john.pdf(x), '--', linewidth=3, label=f'John: P(succ={num_success_john}, trial={num_trials_john})')\n",
    "plt.plot(x, P_A.pdf(x), '--', linewidth=3, label='P(no-information)')\n",
    "plt.xlabel('P(click through rate)')\n",
    "plt.ylabel('PDF')\n",
    "plt.legend()"
   ]
  },
  {
   "cell_type": "code",
   "execution_count": null,
   "metadata": {},
   "outputs": [],
   "source": []
  },
  {
   "cell_type": "code",
   "execution_count": null,
   "metadata": {},
   "outputs": [],
   "source": [
    "# Now you run the campaign a bit more, and you find that\n",
    "num_success_you = 83\n",
    "num_trials_you = 200\n",
    "\n",
    "# let's perform P(A|B) = BINOMIAL(new info) * BETA-Prior_john\n",
    "\n",
    "# new information, is from the binomial distribution hint: binom.pmf\n",
    "new_information = np.array([$$$$$  for p in x])\n",
    "\n",
    "# combine this with our prior information from John\n",
    "P_A_B_new = new_information * prior_from_john.pdf(x)\n",
    "P_A_B_new /= np.amax(P_A_B_new)\n",
    "\n",
    "plt.plot(x, P_A_B_new , '--', linewidth=3, \n",
    "         label=f'P(click through | succ={num_success_you}, trial={num_trials_you})*P(john)')\n",
    "plt.legend()\n",
    "plt.xlabel('P(click through rate)')\n",
    "plt.ylabel('PDF')\n"
   ]
  },
  {
   "cell_type": "code",
   "execution_count": null,
   "metadata": {},
   "outputs": [],
   "source": [
    "# now prove this is equivilant to just adding all the success, and all the trials together \n",
    "total_succ = num_success_you + num_success_john\n",
    "total_trial = num_trials_you + num_trials_john\n",
    "\n",
    "newer_plus_old_information = $$$$$\n",
    "\n",
    "plt.plot(x, newer_plus_old_information/(np.amax(newer_plus_old_information)), '-', linewidth=3, \n",
    "         label=f'Beta(1 + {total_succ}, 1 + {total_trial} - {total_succ})')\n",
    "plt.plot(x, P_A_B_new , '--', linewidth=3, \n",
    "         label=f'P(click through | succ={num_success_you}, trial={num_trials_you})*P(john)')\n",
    "plt.legend()\n",
    "plt.xlabel('P(click through rate)')\n",
    "plt.ylabel('PDF')"
   ]
  },
  {
   "cell_type": "markdown",
   "metadata": {},
   "source": [
    "### this means that we can just add any new knowledge, to any old knowledge we have about a item, and our estimate of the PDF gets improved. This proccess is simply mathematical addition!"
   ]
  },
  {
   "cell_type": "code",
   "execution_count": null,
   "metadata": {},
   "outputs": [],
   "source": [
    "# now compare this with a different creative, that we have some information about\n",
    "num_success_creative2 = 75\n",
    "num_trials_creative2 = 160\n",
    "\n",
    "creative_2_PDF = beta(1 + num_success_creative2, 1 + num_trials_creative2 - num_success_creative2)\n",
    "\n",
    "plt.plot(x, newer_plus_old_information, '-', linewidth=3, \n",
    "         label=f'Creative 1: Beta(1 + {total_succ}, 1 + {total_trial} - {total_succ})')\n",
    "\n",
    "\n",
    "plt.plot(x, creative_2_PDF.pdf(x), '-', linewidth=3, \n",
    "         label=f'Creative 2: Beta(1 + {num_success_creative2}, 1 + {num_trials_creative2} - {num_success_creative2})')\n",
    "plt.legend()\n",
    "plt.xlabel('P(click through rate)')\n",
    "plt.ylabel('PDF')\n"
   ]
  },
  {
   "cell_type": "markdown",
   "metadata": {},
   "source": [
    "<h3>Using this estimation of probabilities</h3>\n",
    "\n",
    "now we can estimate probabilities, let's use them in a \"real-world\" situation\n",
    "\n",
    "Assume we have some items, and we need to decide which item we should present to a requester? \n",
    "e.g. \n",
    "\n",
    "Which of N creatives has the largest click through rate?\n",
    "\n",
    "Which of N mutli-armed-bandits has the best payout rate?"
   ]
  },
  {
   "cell_type": "code",
   "execution_count": null,
   "metadata": {},
   "outputs": [],
   "source": [
    "# one useful function, is provided by numpy.\n",
    "for i in range(5):\n",
    "    \n",
    "    rand_x_val_c1 = np.random.beta(1+total_succ, 1+total_trial - total_succ)\n",
    "    rand_x_val_c2 = np.random.beta(1+num_success_creative2, 1+num_trials_creative2-num_success_creative2)\n",
    "    print('draw guess of P(click through) from creative 1', rand_x_val_c1)\n",
    "    print('draw guess of P(click through)  from creative 2', rand_x_val_c2)\n",
    "    \n",
    "    if $$$$$:\n",
    "        print('we should show creative 1 to the user')\n",
    "    else:\n",
    "        print('we should show creative 2 to the user')\n",
    "    print(\"\")\n"
   ]
  },
  {
   "cell_type": "markdown",
   "metadata": {},
   "source": [
    "<h3>The Bayesian Bandit Algorithm</h3>"
   ]
  },
  {
   "cell_type": "markdown",
   "metadata": {},
   "source": [
    "The algorithm is quite straight forward. Image we have N creatives, i=0..N\n",
    "\n",
    "while True:\n",
    "\n",
    "    Use your prior information to estimate PDFs: P_i(click_through_rate) for each N\n",
    "    \n",
    "    Draw a random sample from each of the N PDFs\n",
    "    \n",
    "    Choose the ”i” with the largest value\n",
    "    \n",
    "    Show “i” to the user\n",
    "    \n",
    "    Was this a success or a failure?\n",
    "    \n",
    "    \n",
    "    Update the Bayesian information about creative “i”\n",
    "\n"
   ]
  },
  {
   "cell_type": "code",
   "execution_count": null,
   "metadata": {},
   "outputs": [],
   "source": [
    "class Bayes_Bandit:\n",
    "    \"\"\"\n",
    "    Class for performing classical bayesian bandits\n",
    "    \"\"\"\n",
    "\n",
    "    def __init__(self, initial_beta_matrix=[], items=[]):\n",
    "        \"\"\"\n",
    "        Initilializing beta_matrix and items it contains\n",
    "        initial_beta_matrix is of shape [Nitems, 2] and items are all the game keys for this campaign, with [a, b] for each game-key\n",
    "        \"\"\"\n",
    "\n",
    "        self.current_beta_matrix = initial_beta_matrix\n",
    "        self.items = items\n",
    "\n",
    "\n",
    "    def _add_item(self, item, beta_a=1, beta_b=1):\n",
    "        \"\"\"\n",
    "        Function appends a new item to the items and beta matrix\n",
    "\n",
    "        Parameters\n",
    "        ----------\n",
    "        item : string\n",
    "            Item key will be added to current beta matrix \n",
    "            New game key is initialized to [a,b] = [1,1] as minimally informative priors\n",
    "\n",
    "\n",
    "        \"\"\"\n",
    "\n",
    "        self.items.append(item)\n",
    "        self.current_beta_matrix.append([beta_a, beta_b])\n",
    "        pass\n",
    "\n",
    "    def update(self, item, success, trials):\n",
    "        \"\"\"\n",
    "        Function updates the current beta matrix with new values added using _add_item function, \n",
    "        \n",
    "        Parameters\n",
    "        ----------\n",
    "        item : string\n",
    "            Some id/key that needs to be updated\n",
    "        success : number of engagements/first_dropped\n",
    "            Number of times users engaged with the creative\n",
    "        trials : number of impressions\n",
    "            Total number of times the creative was shown to users\n",
    "\n",
    "\n",
    "        \"\"\"\n",
    "\n",
    "        if item not in self.items:\n",
    "            self._add_item(item)\n",
    "\n",
    "        ind_item = self.items.index(item)\n",
    "        self.current_beta_matrix[ind_item][0] += $$$$$$$$$\n",
    "        self.current_beta_matrix[ind_item][1] += $$$$$$$$$\n",
    "\n",
    "        pass\n",
    "\n",
    "    def random_draw(self):\n",
    "        \"\"\"\n",
    "        Function creates a beta distribution using [a,b] values and selects a random value from within the distribution, indepependantly for each item \n",
    "\n",
    "        Parameters\n",
    "        ----------\n",
    "        Beta_matrix : list\n",
    "            List containing all [a,b] values is converted to a numpy array before randomly drawing from their beta distributions\n",
    "\n",
    "        Returns\n",
    "        -------\n",
    "        rand_draws :  numpy.array\n",
    "            Array of len(number of items), that contains random probabilites drawn from each of their beta distributions. \n",
    "        \"\"\"\n",
    "\n",
    "        beta_matrix_arr = np.array(self.current_beta_matrix)\n",
    "        # draws random beta from each of the items a,b values\n",
    "        rand_draws = np.random.beta(\n",
    "            beta_matrix_arr[:, 0], beta_matrix_arr[:, 1])\n",
    "        \n",
    "        return rand_draws\n",
    "    \n",
    "    def pull_lever(self):\n",
    "        \"\"\"\n",
    "        Function uses the randomly drawn distributions from the previous function(rand_draw) to return index of the game/item with the highest probability of success. \n",
    "\n",
    "        Parameters\n",
    "        ----------\n",
    "        rand_draws : numpy.array\n",
    "            Random probabilites drawn from each of the items' beta distributions\n",
    "        items : list of strings\n",
    "            All game/ad ids\n",
    "\n",
    "        Returns\n",
    "        -------\n",
    "        best game id : string\n",
    "            ID of the game/item with the highest probability from the drawn beta distributions\n",
    "        rand_vals : numpy.array\n",
    "            Array containing the final probabilites of all items. \n",
    "            This is returned here because calling the random_draw function randomly draws from beta distributions again, \n",
    "            leading to different best game id and probabilties if the two functions are called separately\n",
    "        \"\"\"\n",
    "\n",
    "        # draw from all beta functions\n",
    "        rand_vals = self.random_draw()\n",
    "\n",
    "        # get the highest interst\n",
    "        best_index = np.argmax(rand_vals)\n",
    "        return np.array(self.items)[best_index]\n",
    "\n",
    "    \n",
    "BB = Bayes_Bandit()\n",
    "\n",
    "\n",
    "creatives = [{\"creative_1\": {\"number_successes\": 5, \"number_trials\": 8}}, \n",
    "             {\"creative_2\": {\"number_successes\": 3, \"number_trials\": 5}}]\n",
    "for crt in creatives:\n",
    "    item_id = list(crt.keys())[0]\n",
    "    BB.$$$$$$$$$\n"
   ]
  },
  {
   "cell_type": "code",
   "execution_count": null,
   "metadata": {},
   "outputs": [],
   "source": [
    "# let's pull the lever a heap of times. What created should we show, based on our past knowledge?\n",
    "for i in range(5):\n",
    "    print(\"which creative should we show?\", BB.pull_lever())"
   ]
  },
  {
   "cell_type": "code",
   "execution_count": null,
   "metadata": {},
   "outputs": [],
   "source": [
    "new_creative_information = [{\"creative_1\": {\"number_successes\": 5, \"number_trials\": 8}}, \n",
    "             {\"creative_2\": {\"number_successes\": 3, \"number_trials\": 10}},\n",
    "             {\"creative_3\": {\"number_successes\": 5, \"number_trials\": 8}}]\n",
    "for crt in new_creative_information:\n",
    "    item_id = list(crt.keys())[0]\n",
    "    BB.$$$$$$$$$\n",
    "for i in range(5):\n",
    "    print(\"which creative should we show?\", BB.pull_lever())"
   ]
  },
  {
   "cell_type": "code",
   "execution_count": null,
   "metadata": {},
   "outputs": [],
   "source": [
    "# pretend that some mightly creature knows what the click-through rate actually is for each \n",
    "# creative. \n",
    "# but they don't tell us! \n",
    "# this information can sort of be estimated once a *lot* of data has been collected\n",
    "# and maybe a lot of money has been wasted! This is exactly what we want to avoid!\n",
    "ctr = {}\n",
    "ctr['creative_1'] = 0.7\n",
    "ctr['creative_2'] = 0.3\n",
    "ctr['creative_3'] = 0.5"
   ]
  },
  {
   "cell_type": "code",
   "execution_count": null,
   "metadata": {},
   "outputs": [],
   "source": [
    "for i in range(100):\n",
    "    print(\"which creative should we show?\", BB.pull_lever())\n",
    "    \n",
    "    item = BB.pull_lever()\n",
    "    success_or_failure = np.random.choice([1, 0], p=[ctr[item], 1-ctr[item]])\n",
    "    BB.update(item, success_or_failure, 1)"
   ]
  },
  {
   "cell_type": "markdown",
   "metadata": {},
   "source": [
    "### we very quickly find out which is the best creative. Which has the highest click through rate!\n"
   ]
  },
  {
   "cell_type": "code",
   "execution_count": null,
   "metadata": {},
   "outputs": [],
   "source": []
  },
  {
   "cell_type": "markdown",
   "metadata": {},
   "source": [
    "### let's build this into a docker container, that can be deployed anywhere, including the cloud."
   ]
  },
  {
   "cell_type": "code",
   "execution_count": null,
   "metadata": {},
   "outputs": [],
   "source": [
    "import time\n",
    "import requests\n",
    "import json\n",
    "url = 'http://127.0.0.1:8080/'\n",
    "\n",
    "creatives_api_input = [{\"creative_1\": {\"number_successes\": 5, \"number_trials\": 8}}, \n",
    "             {\"creative_2\": {\"number_successes\": 3, \"number_trials\": 5}}]\n",
    "\n",
    "t = time.time()\n",
    "\n",
    "r = requests.post(url +'update_bandit',\n",
    "                  json=creatives_api_input)\n",
    "\n",
    "print(json.loads(r.content))\n",
    "\n",
    "r = requests.post(url +'dump_beta_matrix_parameters',\n",
    "                  json=new_creative_information)\n",
    "print(json.loads(r.content))\n"
   ]
  },
  {
   "cell_type": "code",
   "execution_count": null,
   "metadata": {},
   "outputs": [],
   "source": [
    "get_ids = []\n",
    "for i in range(100):\n",
    "    r = requests.post(url +'pull_lever')\n",
    "    get_ids.append(json.loads(r.content)['item'])\n",
    "    item = json.loads(r.content)['item']\n",
    "    \n",
    "    print('this item was suggested', item)\n",
    "    \n",
    "    success_or_failure = np.random.choice([1, 0], p=[ctr[item], 1-ctr[item]])\n",
    "    print('a click through occured', success_or_failure==1)\n",
    "    \n",
    "    updated_bandit_input = [{item: {\n",
    "        \"number_successes\": int(success_or_failure), \n",
    "        \"number_trials\": 1}\n",
    "                            }]\n",
    "    r = requests.post(url +'update_bandit',\n",
    "                  json=updated_bandit_input)\n"
   ]
  },
  {
   "cell_type": "code",
   "execution_count": null,
   "metadata": {},
   "outputs": [],
   "source": []
  },
  {
   "cell_type": "code",
   "execution_count": null,
   "metadata": {},
   "outputs": [],
   "source": [
    "r = requests.post(url +'dump_beta_matrix_parameters',\n",
    "                  json=new_creative_information)\n",
    "print(json.loads(r.content))\n"
   ]
  },
  {
   "cell_type": "code",
   "execution_count": null,
   "metadata": {},
   "outputs": [],
   "source": []
  },
  {
   "cell_type": "code",
   "execution_count": null,
   "metadata": {},
   "outputs": [],
   "source": []
  }
 ],
 "metadata": {
  "kernelspec": {
   "display_name": "Python 3",
   "language": "python",
   "name": "python3"
  },
  "language_info": {
   "codemirror_mode": {
    "name": "ipython",
    "version": 3
   },
   "file_extension": ".py",
   "mimetype": "text/x-python",
   "name": "python",
   "nbconvert_exporter": "python",
   "pygments_lexer": "ipython3",
   "version": "3.7.4"
  }
 },
 "nbformat": 4,
 "nbformat_minor": 4
}
